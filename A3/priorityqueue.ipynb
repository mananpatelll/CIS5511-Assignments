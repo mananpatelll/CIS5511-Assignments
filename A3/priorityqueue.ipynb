{
 "cells": [
  {
   "cell_type": "code",
   "execution_count": 127,
   "metadata": {},
   "outputs": [],
   "source": [
    "class priorityqueue: \n",
    "    def __init__(self):\n",
    "        self.heap = [] #create empty list called heap\n",
    "        \n",
    "    def _heapify(self,n,i):\n",
    "        largest = i  #intilize largest element\n",
    "        left = i*2+1  # calculate left child of largest element\n",
    "        right = i*2+2 # calculate right child of largest element \n",
    "        if left < n and self.heap[largest] < self.heap[left]:\n",
    "            largest = left\n",
    "        if right < n and self.heap[largest] < self.heap[right]:\n",
    "            largest = right\n",
    "        if largest != i: \n",
    "            self.heap[largest], self.heap[i] = self.heap[i],self.heap[largest]\n",
    "            self._heapify(n,largest)\n",
    "            \n",
    "    def insert(self,new):\n",
    "        self.heap.append(new)\n",
    "        n = len(self.heap)\n",
    "        i = n-1  # index of last element\n",
    "        parent = (i-1)//2 # index of parent of last element\n",
    "        \n",
    "        while i > 0 and self.heap[parent] < self.heap[i]:\n",
    "            self.heap[i],self.heap[parent] = self.heap[parent],self.heap[i]\n",
    "            i = parent\n",
    "            parent = (i-1)//2\n",
    "    def peek(self):\n",
    "        if len(self.heap) == 0:\n",
    "            raise IndexError(\"Queue is empty\")\n",
    "        else:\n",
    "            return self.heap[0]\n",
    "    def remove_max(self):\n",
    "        if len(self.heap) == 0:\n",
    "            raise IndexError(\"Queue is empty\")\n",
    "        max = self.heap[0]\n",
    "        self.heap[0],self.heap[-1] = self.heap[-1],self.heap[0] # swap the first value with last value \n",
    "        self.heap.pop()  # Remove the max element\n",
    "        self._heapify(len(self.heap),0) #heapify again to fix heap \n",
    "        return f\"max element was: {max}\"\n",
    "    def sort(self):\n",
    "        n = len(self.heap)\n",
    "        for i in range(n-1,0,-1): #for loop goes from last element to first \n",
    "            self.heap[i],self.heap[0] = self.heap[0],self.heap[i]\n",
    "            self._heapify(i,0)\n",
    "        print(self.heap)\n",
    "    def search(self, value):\n",
    "        for i in range(len(self.heap)):\n",
    "            if self.heap[i] == value:\n",
    "                return f\"Element {value} found at index {i}\"\n",
    "        return f\"Element {value} not found in the heap\"\n",
    "\n",
    "    def print(self):\n",
    "        print(self.heap)\n",
    "    \n",
    "\n"
   ]
  },
  {
   "cell_type": "code",
   "execution_count": 119,
   "metadata": {},
   "outputs": [],
   "source": [
    "pq = priorityqueue()"
   ]
  },
  {
   "cell_type": "code",
   "execution_count": 120,
   "metadata": {},
   "outputs": [],
   "source": [
    "pq.insert('A')\n",
    "pq.insert('C')\n",
    "pq.insert('D')\n",
    "pq.insert('F')\n",
    "pq.insert('X')\n",
    "pq.insert('Z')\n",
    "pq.insert('M')"
   ]
  },
  {
   "cell_type": "code",
   "execution_count": 121,
   "metadata": {},
   "outputs": [
    {
     "data": {
      "text/plain": [
       "'Z'"
      ]
     },
     "execution_count": 121,
     "metadata": {},
     "output_type": "execute_result"
    }
   ],
   "source": [
    "pq.peek() #print max element"
   ]
  },
  {
   "cell_type": "code",
   "execution_count": 122,
   "metadata": {},
   "outputs": [
    {
     "name": "stdout",
     "output_type": "stream",
     "text": [
      "['Z', 'F', 'X', 'A', 'D', 'C', 'M']\n"
     ]
    }
   ],
   "source": [
    "pq.print()"
   ]
  },
  {
   "cell_type": "code",
   "execution_count": 123,
   "metadata": {},
   "outputs": [
    {
     "data": {
      "text/plain": [
       "'max element was: Z'"
      ]
     },
     "execution_count": 123,
     "metadata": {},
     "output_type": "execute_result"
    }
   ],
   "source": [
    "pq.remove_max()"
   ]
  },
  {
   "cell_type": "code",
   "execution_count": 124,
   "metadata": {},
   "outputs": [
    {
     "data": {
      "text/plain": [
       "'X'"
      ]
     },
     "execution_count": 124,
     "metadata": {},
     "output_type": "execute_result"
    }
   ],
   "source": [
    "pq.peek()"
   ]
  },
  {
   "cell_type": "code",
   "execution_count": 125,
   "metadata": {},
   "outputs": [
    {
     "name": "stdout",
     "output_type": "stream",
     "text": [
      "['X', 'F', 'M', 'A', 'D', 'C']\n"
     ]
    }
   ],
   "source": [
    "pq.print()"
   ]
  },
  {
   "cell_type": "code",
   "execution_count": 126,
   "metadata": {},
   "outputs": [
    {
     "name": "stdout",
     "output_type": "stream",
     "text": [
      "['A', 'C', 'D', 'F', 'M', 'X']\n"
     ]
    }
   ],
   "source": [
    "pq.sort()"
   ]
  },
  {
   "cell_type": "code",
   "execution_count": 118,
   "metadata": {},
   "outputs": [
    {
     "data": {
      "text/plain": [
       "'Element 15 found at index 4'"
      ]
     },
     "execution_count": 118,
     "metadata": {},
     "output_type": "execute_result"
    }
   ],
   "source": [
    "pq.search(15)"
   ]
  },
  {
   "cell_type": "code",
   "execution_count": null,
   "metadata": {},
   "outputs": [],
   "source": []
  }
 ],
 "metadata": {
  "kernelspec": {
   "display_name": "base",
   "language": "python",
   "name": "python3"
  },
  "language_info": {
   "codemirror_mode": {
    "name": "ipython",
    "version": 3
   },
   "file_extension": ".py",
   "mimetype": "text/x-python",
   "name": "python",
   "nbconvert_exporter": "python",
   "pygments_lexer": "ipython3",
   "version": "3.11.5"
  }
 },
 "nbformat": 4,
 "nbformat_minor": 2
}
