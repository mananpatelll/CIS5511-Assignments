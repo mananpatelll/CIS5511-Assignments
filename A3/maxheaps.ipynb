{
 "cells": [
  {
   "cell_type": "code",
   "execution_count": 34,
   "metadata": {},
   "outputs": [],
   "source": [
    "def heapify(arr,n,i):\n",
    "    largest = i \n",
    "    left = 2*i + 1\n",
    "    right =2*i + 2\n",
    "    \n",
    "    if left < n and arr[left] > arr[largest]:\n",
    "        largest = left\n",
    "        \n",
    "    if right < n and arr[right] > arr[largest]:\n",
    "        largest = right \n",
    "        \n",
    "    if largest !=i:\n",
    "        arr[i],arr[largest] = arr[largest], arr[i]\n",
    "        heapify(arr,n,largest)"
   ]
  },
  {
   "cell_type": "code",
   "execution_count": 35,
   "metadata": {},
   "outputs": [],
   "source": [
    "def build_max_heap(arr):\n",
    "    n = len(arr)\n",
    "    \n",
    "    for i in range(n//2 -1,-1,-1):\n",
    "        heapify(arr,n,i)\n",
    "        "
   ]
  },
  {
   "cell_type": "code",
   "execution_count": 36,
   "metadata": {},
   "outputs": [
    {
     "data": {
      "text/plain": [
       "[10, 9, 4, 3, 1]"
      ]
     },
     "execution_count": 36,
     "metadata": {},
     "output_type": "execute_result"
    }
   ],
   "source": [
    "arr = [1,3,4,10,9]\n",
    "build_max_heap(arr)\n",
    "arr"
   ]
  },
  {
   "cell_type": "code",
   "execution_count": 37,
   "metadata": {},
   "outputs": [],
   "source": [
    "def insert(arr,new):\n",
    "    arr.append(new)\n",
    "    n = len(arr)\n",
    "    i = n-1 \n",
    "    parent = (i-1) //2 \n",
    "    \n",
    "    while i> 0 and arr[parent] < arr[i]:\n",
    "        arr[i],arr[parent] = arr[parent], arr[i]\n",
    "        i = parent\n",
    "        parent = (i-1) //2 "
   ]
  },
  {
   "cell_type": "code",
   "execution_count": 38,
   "metadata": {},
   "outputs": [
    {
     "data": {
      "text/plain": [
       "[12, 9, 10, 3, 1, 4]"
      ]
     },
     "execution_count": 38,
     "metadata": {},
     "output_type": "execute_result"
    }
   ],
   "source": [
    "insert(arr,12)\n",
    "arr"
   ]
  },
  {
   "cell_type": "code",
   "execution_count": 39,
   "metadata": {},
   "outputs": [],
   "source": [
    "def heapsort(arr):\n",
    "    n = len(arr)\n",
    "    \n",
    "    for i in range(n-1,0,-1):\n",
    "        arr[0],arr[i] = arr[i], arr[0]\n",
    "        heapify(arr,i,0)\n",
    "    "
   ]
  },
  {
   "cell_type": "code",
   "execution_count": 40,
   "metadata": {},
   "outputs": [
    {
     "data": {
      "text/plain": [
       "[1, 3, 4, 9, 10, 12]"
      ]
     },
     "execution_count": 40,
     "metadata": {},
     "output_type": "execute_result"
    }
   ],
   "source": [
    "heapsort(arr)\n",
    "arr"
   ]
  },
  {
   "cell_type": "code",
   "execution_count": 43,
   "metadata": {},
   "outputs": [],
   "source": [
    "def remove(arr,value):\n",
    "    n = len(arr)\n",
    "    \n",
    "    try:\n",
    "        index = arr.index(value)\n",
    "    except ValueError:\n",
    "        print(\"Element not found in the heap\")\n",
    "        return   \n",
    "     \n",
    "    arr[index], arr[n-1] = arr[n-1], arr[index]\n",
    "    arr.pop()\n",
    "    n = len(arr)\n",
    "\n",
    "    build_max_heap(arr)"
   ]
  },
  {
   "cell_type": "code",
   "execution_count": 45,
   "metadata": {},
   "outputs": [
    {
     "data": {
      "text/plain": [
       "[9, 3, 4, 1]"
      ]
     },
     "execution_count": 45,
     "metadata": {},
     "output_type": "execute_result"
    }
   ],
   "source": [
    "remove(arr,12)\n",
    "arr"
   ]
  },
  {
   "cell_type": "code",
   "execution_count": null,
   "metadata": {},
   "outputs": [],
   "source": []
  }
 ],
 "metadata": {
  "kernelspec": {
   "display_name": "base",
   "language": "python",
   "name": "python3"
  },
  "language_info": {
   "codemirror_mode": {
    "name": "ipython",
    "version": 3
   },
   "file_extension": ".py",
   "mimetype": "text/x-python",
   "name": "python",
   "nbconvert_exporter": "python",
   "pygments_lexer": "ipython3",
   "version": "3.11.5"
  }
 },
 "nbformat": 4,
 "nbformat_minor": 2
}
